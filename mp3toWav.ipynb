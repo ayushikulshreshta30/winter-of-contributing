{
  "nbformat": 4,
  "nbformat_minor": 0,
  "metadata": {
    "colab": {
      "name": "mp3toWav.ipynb",
      "provenance": [],
      "authorship_tag": "ABX9TyNwUBRCQ164V7yontfeVjUh",
      "include_colab_link": true
    },
    "kernelspec": {
      "name": "python3",
      "display_name": "Python 3"
    },
    "language_info": {
      "name": "python"
    }
  },
  "cells": [
    {
      "cell_type": "markdown",
      "metadata": {
        "id": "view-in-github",
        "colab_type": "text"
      },
      "source": [
        "<a href=\"https://colab.research.google.com/github/ayushikulshreshta30/winter-of-contributing/blob/main/mp3toWav.ipynb\" target=\"_parent\"><img src=\"https://colab.research.google.com/assets/colab-badge.svg\" alt=\"Open In Colab\"/></a>"
      ]
    },
    {
      "cell_type": "code",
      "execution_count": 3,
      "metadata": {
        "colab": {
          "base_uri": "https://localhost:8080/"
        },
        "id": "y7fEM2AIqMJt",
        "outputId": "aa93f186-f152-4cba-b11c-55b3d6824294"
      },
      "outputs": [
        {
          "output_type": "stream",
          "name": "stdout",
          "text": [
            "Collecting pydub\n",
            "  Downloading pydub-0.25.1-py2.py3-none-any.whl (32 kB)\n",
            "Installing collected packages: pydub\n",
            "Successfully installed pydub-0.25.1\n"
          ]
        }
      ],
      "source": [
        "pip install pydub\n"
      ]
    },
    {
      "cell_type": "code",
      "source": [
        "pip install audioread"
      ],
      "metadata": {
        "colab": {
          "base_uri": "https://localhost:8080/"
        },
        "id": "0NFyeCs5qTGy",
        "outputId": "4d828d8e-f4f0-46f2-d7bc-481d0dfc7eaf"
      },
      "execution_count": 2,
      "outputs": [
        {
          "output_type": "stream",
          "name": "stdout",
          "text": [
            "Requirement already satisfied: audioread in /usr/local/lib/python3.7/dist-packages (2.1.9)\n"
          ]
        }
      ]
    },
    {
      "cell_type": "code",
      "source": [
        "\n",
        "from os import path\n",
        "from pydub import AudioSegment\n",
        "from pydub.playback import play\n",
        "\n",
        "input = \"/content/1.mp3\"\n",
        "sample_output_format = \"test.wav\"\n",
        "sound = AudioSegment.from_mp3(input)\n",
        "sound.export(sample_output_format,format = 'wav')\n",
        "\n",
        "clip = AudioSegment.from_wav(\"test.wav\")\n",
        "print('playing sound using  pydub')\n",
        "play(clip)"
      ],
      "metadata": {
        "colab": {
          "base_uri": "https://localhost:8080/"
        },
        "id": "DdWUKS0DqVae",
        "outputId": "e0ddbcb0-c184-4a28-e980-dabcf0b9797e"
      },
      "execution_count": 11,
      "outputs": [
        {
          "output_type": "stream",
          "name": "stdout",
          "text": [
            "playing sound using  pydub\n"
          ]
        }
      ]
    },
    {
      "cell_type": "code",
      "source": [
        ""
      ],
      "metadata": {
        "id": "40saN_r5AKnI"
      },
      "execution_count": 10,
      "outputs": []
    }
  ]
}